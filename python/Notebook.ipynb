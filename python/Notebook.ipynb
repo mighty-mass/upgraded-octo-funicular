{
  "nbformat": 4,
  "nbformat_minor": 0,
  "metadata": {
    "colab": {
      "provenance": []
    },
    "kernelspec": {
      "name": "python3",
      "display_name": "Python 3"
    },
    "language_info": {
      "name": "python"
    }
  },
  "cells": [
    {
      "cell_type": "code",
      "source": [
        "!pip install pandas"
      ],
      "metadata": {
        "colab": {
          "base_uri": "https://localhost:8080/"
        },
        "id": "igimjAzTcsPh",
        "outputId": "1dbc311f-f04b-48c8-ec6b-feb2a4c1933a"
      },
      "execution_count": null,
      "outputs": [
        {
          "output_type": "stream",
          "name": "stdout",
          "text": [
            "Requirement already satisfied: pandas in /usr/local/lib/python3.10/dist-packages (1.5.3)\n",
            "Requirement already satisfied: python-dateutil>=2.8.1 in /usr/local/lib/python3.10/dist-packages (from pandas) (2.8.2)\n",
            "Requirement already satisfied: pytz>=2020.1 in /usr/local/lib/python3.10/dist-packages (from pandas) (2023.3)\n",
            "Requirement already satisfied: numpy>=1.21.0 in /usr/local/lib/python3.10/dist-packages (from pandas) (1.23.5)\n",
            "Requirement already satisfied: six>=1.5 in /usr/local/lib/python3.10/dist-packages (from python-dateutil>=2.8.1->pandas) (1.16.0)\n"
          ]
        }
      ]
    },
    {
      "cell_type": "code",
      "execution_count": null,
      "metadata": {
        "id": "E5HSw_OtcaSs"
      },
      "outputs": [],
      "source": [
        "from datetime import datetime, timedelta\n",
        "import pandas as pd\n",
        "import numpy as np\n",
        "df_purchases = pd.read_csv(\"purchases.csv\")\n",
        "df_leads = pd.read_csv(\"leads.csv\")\n",
        "df_joined = df_leads.set_index(\"customer_id\").join(df_purchases.set_index(\"customer_id\"), on=\"customer_id\", how=\"left\", )\n",
        "\n",
        "# %%\n",
        "null_purchase_values = df_purchases.isnull()\n",
        "null_purchase_counts = null_purchase_values.sum()\n",
        "\n",
        "print(\"Null values found in purchases:\")\n",
        "print(null_purchase_counts)\n",
        "\n",
        "null_leads_values = df_leads.isnull()\n",
        "null_leads_counts = null_leads_values.sum()\n",
        "\n",
        "print(\"Null values found in leads:\")\n",
        "print(null_leads_counts)\n",
        "\n",
        "## Fill missing gender\n",
        "filling_gender = df_joined['gender'].mode()[0]\n",
        "df_joined['gender'].fillna(filling_gender, inplace=True)\n",
        "\n",
        "print(f\"Most common gender: {filling_gender}\")\n",
        "\n",
        "## Fill missing nationality and province\n",
        "filling_nationality = df_joined['nationality'].mode()[0]\n",
        "filling_province = df_joined['province'].mode()[0]\n",
        "df_joined['nationality'].fillna(filling_nationality, inplace=True)\n",
        "df_joined['province'].fillna(filling_province, inplace=True)\n",
        "\n",
        "\n",
        "print(f\"Most common nationality: {filling_nationality}\")\n",
        "print(f\"Most common province: {filling_province}\")\n",
        "\n",
        "df_joined['dob'] = pd.to_datetime(df_joined['dob'], dayfirst=True, format=\"mixed\")\n",
        "df_joined.head()\n",
        "\n",
        "df_joined['today'] = datetime.today().strftime(\"%d/%m/%Y\")\n",
        "df_joined['today'] = pd.to_datetime(df_joined['today'], dayfirst=True, errors='ignore')\n",
        "\n",
        "df_joined = df_joined.assign(Age=lambda x: round((x['today'] - x['dob']).dt.days))\n",
        "filling_dob = (datetime.today() - timedelta(days=df_joined['Age'].median())).date()\n",
        "df_joined['dob'].fillna(filling_dob, inplace=True)\n",
        "\n",
        "\n",
        "print(f\"Most common age: {df_joined['Age'].median()}\")\n",
        "print(f\"DOB used: {filling_dob}\")\n",
        "df_joined.drop(columns=['today','Age'], inplace=True)\n",
        "\n",
        "# Export filled file\n",
        "df_joined.to_csv(\"CSV/1_data_cleaning.csv\")"
      ]
    },
    {
      "cell_type": "code",
      "source": [
        "from datetime import datetime\n",
        "import pandas as pd\n",
        "df_purchases = pd.read_csv(\"purchases.csv\")\n",
        "df_leads = pd.read_csv(\"leads.csv\")\n",
        "\n",
        "df_joined = df_leads.set_index(\"customer_id\").join(df_purchases.set_index(\"customer_id\"), on=\"customer_id\", how=\"left\", )\n",
        "df_joined.head()\n",
        "df_joined['booking_date'] = pd.to_datetime(df_joined['booking_date'], dayfirst=True, errors='ignore')\n",
        "df_joined['lead_date'] = pd.to_datetime(df_joined['lead_date'], dayfirst=True, errors='ignore')\n",
        "df_joined_modified = df_joined.assign(ConvertedInDays=lambda x: (x['booking_date'] - x['lead_date']).dt.days)\n",
        "\n",
        "df_joined_modified.head()\n",
        "\n",
        "df_joined_modified[df_joined_modified['ConvertedInDays'] > 0].head()\n",
        "\n",
        "\n",
        "df_joined.to_csv(\"CSV/2_data_manipulation.csv\")\n"
      ],
      "metadata": {
        "id": "NUIUhmtTcjSX"
      },
      "execution_count": null,
      "outputs": []
    },
    {
      "cell_type": "code",
      "source": [
        "from datetime import datetime\n",
        "import pandas as pd\n",
        "import numpy as np\n",
        "\n",
        "df_purchases = pd.read_csv(\"purchases.csv\")\n",
        "df_leads = pd.read_csv(\"leads.csv\")\n",
        "df_joined = df_leads.set_index(\"customer_id\").join(df_purchases.set_index(\"customer_id\"), on=\"customer_id\", how=\"left\", )\n",
        "\n",
        "# Add flag for converted customers\n",
        "df_joined['IsEconomy'] = df_joined['product_searched'].isin(['Economy'])\n",
        "df_joined['BoughtPremiumOrBusiness'] = df_joined['product_booked'].isin(['Premium_Economy','Business'])\n",
        "df_joined = df_joined.assign(HasUpgraded=lambda x: x['IsEconomy'] & x['BoughtPremiumOrBusiness'])\n",
        "#df_joined.assign(IsUpgraded=lambda x: True if x['product_searched'].str.contains(\"Economy\") else False)\n",
        "\n",
        "# df_joined.head()\n",
        "df_joined.drop(columns=['IsEconomy','BoughtPremiumOrBusiness'], inplace=True)\n",
        "df_joined[df_joined['HasUpgraded']].head()\n",
        "\n",
        "# Add Converted target variables\n",
        "df_joined['Converted'] = df_joined['HasUpgraded']\n",
        "df_joined = df_joined.assign(HasUpgraded=lambda x: \"Converted\" if x['Converted'].bool else None)\n",
        "\n",
        "# Final booking price\n",
        "df_joined[\"FinalPrice\"] = df_joined[\"Booking_Price\"] - df_joined[\"Discount\"]\n",
        "df_joined.head()\n",
        "\n",
        "df_joined.to_csv(\"CSV/3_data_transformation.csv\")"
      ],
      "metadata": {
        "id": "5fUv6Z39cqPD"
      },
      "execution_count": null,
      "outputs": []
    }
  ]
}